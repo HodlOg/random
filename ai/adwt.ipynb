{
 "cells": [
  {
   "cell_type": "code",
   "execution_count": null,
   "metadata": {},
   "outputs": [],
   "source": [
    "import requests\n",
    "import json\n",
    "import time\n",
    "import os\n",
    "import sys\n",
    "import numpy as np\n",
    "from scipy.signal import cwt, ricker\n",
    "import matplotlib.pyplot as plt\n",
    "import pandas as pd"
   ]
  },
  {
   "cell_type": "code",
   "execution_count": null,
   "metadata": {},
   "outputs": [],
   "source": [
    "def adaptive_multi_scale_dtw(x, y, scales, window_size):\n",
    "    n = len(x)\n",
    "    m = len(y)\n",
    "    \n",
    "    # decompose\n",
    "    x_wavelets = cwt(x, ricker, scales)\n",
    "    y_wavelets = cwt(y, ricker, scales)\n",
    "\n",
    "    # might be good to fit ||y-W||^2 + a||BW||^2 where would represent B is descrete second order derivative\n",
    "    # but hard to say what y would be\n",
    "    weights = np.ones(len(scales)) / len(scales)  # equal weights for simplicity\n",
    "    \n",
    "    dtw_matrix = np.zeros((n + 1, m + 1))\n",
    "    dtw_matrix[0, 1:] = np.inf\n",
    "    dtw_matrix[1:, 0] = np.inf\n",
    "    \n",
    "    for i in range(1, n + 1):\n",
    "        for j in range(max(1, i - window_size), min(m + 1, i + window_size)):\n",
    "            cost = np.sum(weights * np.abs(x_wavelets[:, i - 1] - y_wavelets[:, j - 1]))\n",
    "            dtw_matrix[i, j] = cost + min(dtw_matrix[i - 1, j], dtw_matrix[i, j - 1], dtw_matrix[i - 1, j - 1])\n",
    "    \n",
    "    distance = dtw_matrix[n, m]\n",
    "    print(f\"Distance: {distance}\")\n",
    "    return distance\n",
    "scales = np.arange(1, 11)\n",
    "window_size = 10\n"
   ]
  },
  {
   "cell_type": "code",
   "execution_count": null,
   "metadata": {},
   "outputs": [],
   "source": [
    "from scipy.spatial.distance import euclidean\n",
    "from fastdtw import fastdtw"
   ]
  },
  {
   "cell_type": "code",
   "execution_count": null,
   "metadata": {},
   "outputs": [],
   "source": [
    "class AdaptiveMultiScaleDTW:\n",
    "    def __init__(self, scales, window_size):\n",
    "        self.scales = scales\n",
    "        self.window_size = window_size\n",
    "\n",
    "    def __call__(self, x, y):\n",
    "        return self.adaptive_multi_scale_dtw(x, y)\n",
    "\n",
    "    def adaptive_multi_scale_dtw(self, x, y):\n",
    "        n = len(x)\n",
    "        m = len(y)\n",
    "        \n",
    "        x_wavelets = cwt(x, ricker, scales)\n",
    "        y_wavelets = cwt(y, ricker, scales)\n",
    "\n",
    "        \n",
    "        weights = np.ones(len(scales)) / len(scales)\n",
    "        \n",
    "        # Multi-Scale DTW\n",
    "        dtw_matrix = np.zeros((n + 1, m + 1))\n",
    "        dtw_matrix[0, 1:] = np.inf\n",
    "        dtw_matrix[1:, 0] = np.inf\n",
    "        \n",
    "        for i in range(1, n + 1):\n",
    "            for j in range(max(1, i - window_size), min(m + 1, i + window_size)):\n",
    "                cost = np.sum(weights * np.abs(x_wavelets[:, i - 1] - y_wavelets[:, j - 1]))\n",
    "                dtw_matrix[i, j] = cost + min(dtw_matrix[i - 1, j], dtw_matrix[i, j - 1], dtw_matrix[i - 1, j - 1])\n",
    "        \n",
    "        distance = dtw_matrix[n, m]\n",
    "\n",
    "        return distance"
   ]
  },
  {
   "cell_type": "code",
   "execution_count": null,
   "metadata": {},
   "outputs": [],
   "source": [
    "class ClassicDTW:\n",
    "    def __call__(self, x, y):\n",
    "        return self.classic_dtw(x, y)\n",
    "\n",
    "    def classic_dtw(self, x, y):\n",
    "        distance, _ = fastdtw(x, y, dist=2)\n",
    "        return distance"
   ]
  },
  {
   "cell_type": "code",
   "execution_count": null,
   "metadata": {},
   "outputs": [],
   "source": [
    "def generate_timeseries(length, num_series, noise_level=0.1, seasonal_period=1000):\n",
    "    t = np.arange(length)\n",
    "    series = []\n",
    "    \n",
    "    for i in range(num_series):\n",
    "        frequency = np.random.uniform(0.01, 0.1)\n",
    "        sinusoid = np.sin(2 * np.pi * frequency * t)\n",
    "        brownian = np.cumsum(np.random.normal(0, 0.1, length))\n",
    "        seasonal = np.sin(2 * np.pi * t / seasonal_period)\n",
    "        series_i = sinusoid + brownian + seasonal\n",
    "        noise = np.random.normal(0, noise_level, length)\n",
    "        series_i += noise\n",
    "        series.append(series_i)\n",
    "    \n",
    "    return np.array(series)"
   ]
  },
  {
   "cell_type": "code",
   "execution_count": null,
   "metadata": {},
   "outputs": [],
   "source": [
    "length = 500"
   ]
  },
  {
   "cell_type": "code",
   "execution_count": null,
   "metadata": {},
   "outputs": [],
   "source": [
    "base_series = np.sin(2 * np.pi * 0.01* np.arange(length)) + np.cumsum(np.random.normal(0, 0.1, length)) + np.sin(2 * np.pi * np.arange(length) / 1000)\n",
    "plt.plot(base_series)"
   ]
  },
  {
   "cell_type": "code",
   "execution_count": null,
   "metadata": {},
   "outputs": [],
   "source": [
    "def gen(base_series, num_series, deviation_factor=0.1, noise_level=0.01):\n",
    "    length = len(base_series)\n",
    "    series = [base_series]\n",
    "    \n",
    "    for i in range(1, num_series):\n",
    "        deviation = i * deviation_factor\n",
    "        brownian = np.cumsum(np.random.normal(0, deviation, length))\n",
    "        noise = np.random.normal(0, deviation * noise_level, length)\n",
    "        series_i = base_series + brownian + noise\n",
    "        series.append(series_i)\n",
    "    \n",
    "    return np.array(series)"
   ]
  },
  {
   "cell_type": "code",
   "execution_count": null,
   "metadata": {},
   "outputs": [],
   "source": [
    "length = 500\n",
    "num_series = 10\n",
    "deviation_factor = 0.05\n",
    "timeseries_data = gen(base_series, num_series, deviation_factor)"
   ]
  },
  {
   "cell_type": "code",
   "execution_count": null,
   "metadata": {},
   "outputs": [],
   "source": [
    "plt.figure(figsize=(10, 6))\n",
    "for i in range(num_series):\n",
    "    plt.plot(timeseries_data[i], label=f'Time Series {i + 1}')\n",
    "plt.title('Synthetic Time Series Data')"
   ]
  },
  {
   "cell_type": "code",
   "execution_count": null,
   "metadata": {},
   "outputs": [],
   "source": [
    "def traditional_dtw_distance(x, y):\n",
    "    distance, path = fastdtw(x, y)\n",
    "    return distance"
   ]
  },
  {
   "cell_type": "code",
   "execution_count": null,
   "metadata": {},
   "outputs": [],
   "source": [
    "import sklearn\n",
    "from sklearn import preprocessing"
   ]
  },
  {
   "cell_type": "code",
   "execution_count": null,
   "metadata": {},
   "outputs": [],
   "source": [
    "scales = np.arange(1, 21)  # Example scales\n",
    "window_size = 10  # Example window size\n",
    "distances = []\n",
    "basic_distances = []\n",
    "for i in range(num_series):\n",
    "    x = base_series\n",
    "    y = timeseries_data[i]\n",
    "    \n",
    "    distance = adaptive_multi_scale_dtw(x, y, scales, window_size)\n",
    "    basic = traditional_dtw_distance(x, y)\n",
    "    basic_distances.append(basic)\n",
    "    distances.append(distance)\n",
    "\n",
    "print(\"Distances between timeseries:\")\n",
    "print(distances)\n",
    "print(\"Basic DTW distances between timeseries:\")\n",
    "print(basic_distances)"
   ]
  },
  {
   "cell_type": "code",
   "execution_count": null,
   "metadata": {},
   "outputs": [],
   "source": [
    "from sklearn.neighbors import KNeighborsClassifier\n",
    "from sklearn.metrics import accuracy_score\n",
    "\n",
    "# Generate labeled timeseries data\n",
    "num_classes = 2\n",
    "num_series_per_class = 50\n",
    "length = 100\n",
    "deviation_factor = 0.01\n",
    "\n",
    "timeseries_data = []\n",
    "labels = []\n",
    "# base_fncs = [np.sin, np.cos]\n",
    "base_series1 = np.sin(2 * np.pi * 0.01* np.arange(length)) + np.cumsum(np.random.normal(0, 0.1, length)) + np.sin(2 * np.pi * np.arange(length) / 1000)\n",
    "# base_series1 = (base_series1 - base_series1.min()) / (base_series1.max() - base_series1.min())\n",
    "base_series2 = np.cos(2 * np.pi * 0.1* np.arange(length)) + np.cumsum(np.random.normal(0, 0.2, length)) + np.sin(2 * np.pi * np.arange(length) / 1000)\n",
    "# base_series2 = (base_series2 - base_series2.min()) / (base_series2.max() - base_series2.min())\n",
    "base_series = [base_series1, base_series2]\n",
    "\n",
    "# generate classes\n",
    "for class_idx in range(num_classes):\n",
    "    base = base_series[class_idx]\n",
    "    class_data = gen(base, num_series_per_class, deviation_factor)\n",
    "    timeseries_data.extend(class_data)\n",
    "    labels.extend([class_idx] * num_series_per_class)\n",
    "    plt.figure(figsize=(10, 6))\n",
    "    for i in range(num_series):\n",
    "        plt.plot(class_data[i], label=f'Time Series {i + 1}')\n",
    "    plt.title('Synthetic Time Series Data for class ' + str(class_idx))\n",
    "        \n",
    "timeseries_data = np.array(timeseries_data)\n",
    "labels = np.array(labels)\n",
    "indices = np.arange(len(timeseries_data))\n",
    "np.random.shuffle(indices)\n",
    "timeseries_data = timeseries_data[indices]\n",
    "labels = labels[indices]\n",
    "\n",
    "train_size = int(0.8 * len(timeseries_data))\n",
    "train_data, test_data = timeseries_data[:train_size], timeseries_data[train_size:]\n",
    "train_labels, test_labels = labels[:train_size], labels[train_size:]\n",
    "\n",
    "adaptive_dtw_metric = AdaptiveMultiScaleDTW(scales=np.arange(1,21), window_size=10)\n",
    "classic_dtw = ClassicDTW()\n",
    "knn_euclidean = KNeighborsClassifier(n_neighbors=3, metric=classic_dtw)\n",
    "knn_adaptive_dtw = KNeighborsClassifier(n_neighbors=3, metric=adaptive_dtw_metric)\n",
    "\n",
    "knn_euclidean.fit(train_data, train_labels)\n",
    "knn_adaptive_dtw.fit(train_data, train_labels)\n",
    "\n",
    "predictions_euclidean = knn_euclidean.predict(test_data)\n",
    "predictions_adaptive_dtw = knn_adaptive_dtw.predict(test_data)\n",
    "\n",
    "accuracy_euclidean = accuracy_score(test_labels, predictions_euclidean)\n",
    "accuracy_adaptive_dtw = accuracy_score(test_labels, predictions_adaptive_dtw)\n",
    "\n",
    "print(\"Accuracy with Euclidean distance:\", accuracy_euclidean)\n",
    "print(\"Accuracy with Adaptive Multi-Scale DTW distance:\", accuracy_adaptive_dtw)\n",
    "\n",
    "for i in range(len(test_data)):\n",
    "    plt.plot(test_data[i], label=f'Time Series {i + 1}')\n",
    "    plt.title(f'True Class: {test_labels[i]}, Predicted Class (Euclidean): {predictions_euclidean[i]}')\n",
    "    plt.show()\n",
    "    plt.plot(test_data[i], label=f'Time Series {i + 1}')\n",
    "    plt.title(f'True Class: {test_labels[i]}, Predicted Class (Adaptive Multi-Scale DTW): {predictions_adaptive_dtw[i]}')\n",
    "    plt.show()"
   ]
  },
  {
   "cell_type": "code",
   "execution_count": null,
   "metadata": {},
   "outputs": [],
   "source": [
    "t = np.linspace(0, 10, 100)\n",
    "exp_growth = np.exp(t / 3) + np.random.normal(0, 0.4, t.shape)  # exponential growth\n",
    "decaying_sinusoid = np.sin(t) * np.exp(-t / 5)  + np.random.normal(0, 0.4, t.shape)  # decaying sinusoid\n",
    "exp_growth = (exp_growth - exp_growth.min()) / (exp_growth.max() - exp_growth.min())\n",
    "decaying_sinusoid = (decaying_sinusoid - decaying_sinusoid.min()) / (decaying_sinusoid.max() - decaying_sinusoid.min())\n",
    "\n",
    "simple_dtw_dissimilar_distance = traditional_dtw_distance(exp_growth, decaying_sinusoid)\n",
    "adaptive_dtw_dissimilar_distance = adaptive_multi_scale_dtw(exp_growth, decaying_sinusoid, scales, window_size)\n",
    "\n",
    "plt.figure(figsize=(10, 6))\n",
    "plt.plot(t, exp_growth, label='Exponential Growth')\n",
    "plt.plot(t, decaying_sinusoid, label='Decaying Sinusoidal')\n",
    "plt.title('Highly Dissimilar Time Series')\n",
    "plt.legend()\n",
    "plt.xlabel('Time')\n",
    "plt.ylabel('Value')\n",
    "plt.show()\n",
    "\n",
    "simple_dtw_dissimilar_distance, adaptive_dtw_dissimilar_distance"
   ]
  }
 ],
 "metadata": {
  "kernelspec": {
   "display_name": "tr",
   "language": "python",
   "name": "python3"
  },
  "language_info": {
   "codemirror_mode": {
    "name": "ipython",
    "version": 3
   },
   "file_extension": ".py",
   "mimetype": "text/x-python",
   "name": "python",
   "nbconvert_exporter": "python",
   "pygments_lexer": "ipython3",
   "version": "3.12.1"
  }
 },
 "nbformat": 4,
 "nbformat_minor": 2
}
