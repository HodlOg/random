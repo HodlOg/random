{
 "cells": [
  {
   "cell_type": "code",
   "execution_count": 1,
   "metadata": {},
   "outputs": [
    {
     "name": "stdout",
     "output_type": "stream",
     "text": [
      "24.7041\n",
      "138.8338\n",
      "645.5773\n"
     ]
    }
   ],
   "source": [
    "from var import Variable\n",
    "\n",
    "\n",
    "a = Variable(-4.0)\n",
    "b = Variable(2.0)\n",
    "c = a + b\n",
    "d = a * b + b**3\n",
    "c += c + 1\n",
    "c += 1 + c + (-a)\n",
    "d += d * 2 + (b + a).relu()\n",
    "d += 3 * d + (b - a).relu()\n",
    "e = c - d\n",
    "f = e**2\n",
    "g = f / 2.0\n",
    "g += 10.0 / f\n",
    "print(f'{g.value:.4f}') # prints 24.7041, the outcome of this forward pass\n",
    "g.grad = 1\n",
    "g.backward()\n",
    "print(f'{a.grad:.4f}') # prints 138.8338, i.e. the numerical value of dg/da\n",
    "print(f'{b.grad:.4f}') # prints 645.5773, i.e. the numerical value of dg/db"
   ]
  },
  {
   "cell_type": "code",
   "execution_count": 2,
   "metadata": {},
   "outputs": [
    {
     "data": {
      "text/plain": [
       "Value: 24.70408163265306, Gradient: 1.0"
      ]
     },
     "execution_count": 2,
     "metadata": {},
     "output_type": "execute_result"
    }
   ],
   "source": [
    "class LinearRegression:\n",
    "    def __init__(self, lr=0.01, num_iters=1000):\n",
    "        self.lr = lr\n",
    "        self.num_iters = num_iters\n",
    "        self.weights = None\n",
    "        self.bias = None\n",
    "\n",
    "    def fit(self, X, y):\n",
    "        n_samples, n_features = X.shape\n",
    "        self.weights = Variable(np.zeros(n_features))\n",
    "        self.bias = Variable(0)\n",
    "\n",
    "        for _ in range(self.num_iters):\n",
    "            y_pred = self.predict(X)\n",
    "            loss = self._mse_loss(y, y_pred)\n",
    "\n",
    "            loss.backward()\n",
    "            self._update_params()\n",
    "\n",
    "    def predict(self, X):\n",
    "        linear = X.dot(self.weights) + self.bias\n",
    "        return linear\n",
    "\n",
    "    def _mse_loss(self, y_true, y_pred):\n",
    "        return ((y_true - y_pred) ** 2).value.mean()\n",
    "\n",
    "    def _update_params(self):\n",
    "        self.weights.value -= self.lr * self.weights.grad\n",
    "        self.bias.value -= self.lr * self.bias.grad\n",
    "        self.weights.grad = 0\n",
    "        self.bias.grad = 0"
   ]
  }
 ],
 "metadata": {
  "kernelspec": {
   "display_name": "tr",
   "language": "python",
   "name": "python3"
  },
  "language_info": {
   "codemirror_mode": {
    "name": "ipython",
    "version": 3
   },
   "file_extension": ".py",
   "mimetype": "text/x-python",
   "name": "python",
   "nbconvert_exporter": "python",
   "pygments_lexer": "ipython3",
   "version": "3.12.1"
  }
 },
 "nbformat": 4,
 "nbformat_minor": 2
}
