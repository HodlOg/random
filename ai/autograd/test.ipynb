{
 "cells": [
  {
   "cell_type": "code",
   "execution_count": 1,
   "metadata": {},
   "outputs": [
    {
     "ename": "ImportError",
     "evalue": "cannot import name 'Variable' from partially initialized module 'var' (most likely due to a circular import) (/home/hreft/me/var.py)",
     "output_type": "error",
     "traceback": [
      "\u001b[0;31m---------------------------------------------------------------------------\u001b[0m",
      "\u001b[0;31mImportError\u001b[0m                               Traceback (most recent call last)",
      "Cell \u001b[0;32mIn[1], line 1\u001b[0m\n\u001b[0;32m----> 1\u001b[0m \u001b[38;5;28;01mfrom\u001b[39;00m \u001b[38;5;21;01mvar\u001b[39;00m \u001b[38;5;28;01mimport\u001b[39;00m Variable\n\u001b[1;32m      4\u001b[0m a \u001b[38;5;241m=\u001b[39m Variable(\u001b[38;5;241m2\u001b[39m)\n\u001b[1;32m      5\u001b[0m b \u001b[38;5;241m=\u001b[39m Variable(\u001b[38;5;241m3\u001b[39m)\n",
      "File \u001b[0;32m~/me/var.py:2\u001b[0m\n\u001b[1;32m      1\u001b[0m \u001b[38;5;28;01mimport\u001b[39;00m \u001b[38;5;21;01mnumpy\u001b[39;00m \u001b[38;5;28;01mas\u001b[39;00m \u001b[38;5;21;01mnp\u001b[39;00m\n\u001b[0;32m----> 2\u001b[0m \u001b[38;5;28;01mfrom\u001b[39;00m \u001b[38;5;21;01mop\u001b[39;00m \u001b[38;5;28;01mimport\u001b[39;00m add, backward, forward, log, mul, \u001b[38;5;28mpow\u001b[39m\n\u001b[1;32m      5\u001b[0m \u001b[38;5;28;01mclass\u001b[39;00m \u001b[38;5;21;01mVariable\u001b[39;00m:\n\u001b[1;32m      6\u001b[0m     \u001b[38;5;28;01mdef\u001b[39;00m \u001b[38;5;21m__init__\u001b[39m(\u001b[38;5;28mself\u001b[39m, value):\n",
      "File \u001b[0;32m~/me/op.py:3\u001b[0m\n\u001b[1;32m      2\u001b[0m \u001b[38;5;28;01mimport\u001b[39;00m \u001b[38;5;21;01mnumpy\u001b[39;00m \u001b[38;5;28;01mas\u001b[39;00m \u001b[38;5;21;01mnp\u001b[39;00m\n\u001b[0;32m----> 3\u001b[0m \u001b[38;5;28;01mfrom\u001b[39;00m \u001b[38;5;21;01mvar\u001b[39;00m \u001b[38;5;28;01mimport\u001b[39;00m Variable\n\u001b[1;32m      6\u001b[0m \u001b[38;5;28;01mdef\u001b[39;00m \u001b[38;5;21madd\u001b[39m(a, b):\n\u001b[1;32m      7\u001b[0m     result \u001b[38;5;241m=\u001b[39m Variable(a\u001b[38;5;241m.\u001b[39mvalue \u001b[38;5;241m+\u001b[39m b\u001b[38;5;241m.\u001b[39mvalue)\n",
      "\u001b[0;31mImportError\u001b[0m: cannot import name 'Variable' from partially initialized module 'var' (most likely due to a circular import) (/home/hreft/me/var.py)"
     ]
    }
   ],
   "source": [
    "from var import Variable\n",
    "\n",
    "\n",
    "a = Variable(2)\n",
    "b = Variable(3)\n",
    "\n",
    "c = a * b\n",
    "d = a + c\n",
    "\n",
    "d.grad = 1\n",
    "d.backward()\n",
    "\n",
    "print(a.grad)  # Output: 4\n",
    "print(b.grad)  # Output: 2"
   ]
  }
 ],
 "metadata": {
  "kernelspec": {
   "display_name": "tr",
   "language": "python",
   "name": "python3"
  },
  "language_info": {
   "codemirror_mode": {
    "name": "ipython",
    "version": 3
   },
   "file_extension": ".py",
   "mimetype": "text/x-python",
   "name": "python",
   "nbconvert_exporter": "python",
   "pygments_lexer": "ipython3",
   "version": "3.12.1"
  }
 },
 "nbformat": 4,
 "nbformat_minor": 2
}
